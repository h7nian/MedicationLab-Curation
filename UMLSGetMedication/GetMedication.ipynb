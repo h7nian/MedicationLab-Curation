{
 "cells": [
  {
   "cell_type": "code",
   "execution_count": 1,
   "metadata": {},
   "outputs": [],
   "source": [
    "import pymysql\n",
    "import pandas as pd\n",
    "from tqdm import tqdm"
   ]
  },
  {
   "cell_type": "code",
   "execution_count": 2,
   "metadata": {},
   "outputs": [],
   "source": [
    "def GetMedication(disease,path=\"/Users/sinianzhang/Downloads\"):\n",
    "    database = pymysql.connect(host=\"localhost\",user= \"root\", password=\"Zhangsinian976\", database=\"umls\")\n",
    "    cursor = database.cursor()\n",
    "    \n",
    "    ## Find Cui of Disease\n",
    "    command = '''select distinct cui\n",
    "                from mrconso\n",
    "                where str = %s and lat=\"ENG\";'''      \n",
    "    cursor.execute(command,disease)\n",
    "    cui = cursor.fetchone()[0]\n",
    "    \n",
    "    ## Find the Medication\n",
    "    command = '''select cui2,mrconso.str\n",
    "                from mrrel,mrconso\n",
    "                where cui1 in (select cui2 from mrrel where cui1= %s and rela=\"mapped_to\")  and rela = \"may_treat\" and mrconso.cui=cui2 and mrconso.lat=\"ENG\";'''\n",
    "                \n",
    "    cursor.execute(command,cui)\n",
    "    allmedication = cursor.fetchall()\n",
    "    \n",
    "    allmedication = pd.DataFrame(allmedication,columns=[\"cui\",\"medication\"])\n",
    "    \n",
    "    ## save the result\n",
    "    allmedication.to_csv(path+\"/\" + \"medication of \" + disease + \".csv\",encoding=\"utf_8_sig\",index=False)\n",
    "    \n",
    "    cursor.close()\n",
    "    database.close()"
   ]
  },
  {
   "cell_type": "code",
   "execution_count": null,
   "metadata": {},
   "outputs": [],
   "source": [
    "GetMedication(\"Rheumatoid Arthritis\")"
   ]
  },
  {
   "cell_type": "code",
   "execution_count": 5,
   "metadata": {},
   "outputs": [],
   "source": [
    "def GetMedicationClass(data,path=\"/Users/sinianzhang/Downloads\"):\n",
    "\n",
    "    data = data.groupby('cui')['medication'].first()\n",
    "    data = pd.DataFrame(data).reset_index()\n",
    "    \n",
    "    database = pymysql.connect(host=\"localhost\",user= \"root\", password=\"Zhangsinian976\", database=\"umls\")\n",
    "    cursor = database.cursor()\n",
    "    \n",
    "    command = '''SELECT DISTINCT mrrel.cui1, mrconso.str\n",
    "    FROM mrrel, mrconso\n",
    "    WHERE mrrel.cui2 = %s AND mrrel.rela = 'isa' AND mrconso.cui = mrrel.cui1 AND mrconso.lat = 'ENG';'''\n",
    "\n",
    "    ClassData = None\n",
    "\n",
    "    for index,row in tqdm(data.iterrows()):\n",
    "        \n",
    "        cursor.execute(command,row[\"cui\"])\n",
    "        result = cursor.fetchall()\n",
    "        Temp = pd.DataFrame(result,columns=[\"ClassCui\",\"ClassStr\"])\n",
    "        Temp.insert(0, \"MedicationStr\", [row[\"medication\"]]*len(Temp), allow_duplicates=True)\n",
    "        Temp.insert(0, \"MedicationCui\", [row[\"cui\"]]*len(Temp), allow_duplicates=True)\n",
    "        ClassData = pd.concat([ClassData,Temp],ignore_index=True)\n",
    "        \n",
    "    ClassData.to_csv(path+\"/\" + \"medication class.csv\",encoding=\"utf_8_sig\",index=False)\n",
    "    \n",
    "    cursor.close()\n",
    "    database.close()"
   ]
  },
  {
   "cell_type": "code",
   "execution_count": 7,
   "metadata": {},
   "outputs": [],
   "source": [
    "data = pd.read_csv(\"/Users/sinianzhang/Downloads/medication of Rheumatoid Arthritis.csv\")"
   ]
  },
  {
   "cell_type": "code",
   "execution_count": 8,
   "metadata": {},
   "outputs": [
    {
     "name": "stderr",
     "output_type": "stream",
     "text": [
      "86it [59:37, 41.60s/it]\n"
     ]
    }
   ],
   "source": [
    "GetMedicationClass(data)"
   ]
  },
  {
   "cell_type": "code",
   "execution_count": 19,
   "metadata": {},
   "outputs": [],
   "source": [
    "RAMedication = pd.read_csv(\"/Users/sinianzhang/Downloads/medication class.csv\")"
   ]
  },
  {
   "cell_type": "code",
   "execution_count": 20,
   "metadata": {},
   "outputs": [],
   "source": [
    "RAMedication = RAMedication.drop_duplicates(subset=['MedicationCui', 'ClassCui'])"
   ]
  },
  {
   "cell_type": "code",
   "execution_count": 21,
   "metadata": {},
   "outputs": [
    {
     "data": {
      "text/html": [
       "<div>\n",
       "<style scoped>\n",
       "    .dataframe tbody tr th:only-of-type {\n",
       "        vertical-align: middle;\n",
       "    }\n",
       "\n",
       "    .dataframe tbody tr th {\n",
       "        vertical-align: top;\n",
       "    }\n",
       "\n",
       "    .dataframe thead th {\n",
       "        text-align: right;\n",
       "    }\n",
       "</style>\n",
       "<table border=\"1\" class=\"dataframe\">\n",
       "  <thead>\n",
       "    <tr style=\"text-align: right;\">\n",
       "      <th></th>\n",
       "      <th>MedicationCui</th>\n",
       "      <th>MedicationStr</th>\n",
       "      <th>ClassCui</th>\n",
       "      <th>ClassStr</th>\n",
       "    </tr>\n",
       "  </thead>\n",
       "  <tbody>\n",
       "    <tr>\n",
       "      <th>0</th>\n",
       "      <td>C0004057</td>\n",
       "      <td>aspirin</td>\n",
       "      <td>C0002771</td>\n",
       "      <td>Analgesics</td>\n",
       "    </tr>\n",
       "    <tr>\n",
       "      <th>30</th>\n",
       "      <td>C0004057</td>\n",
       "      <td>aspirin</td>\n",
       "      <td>C0003211</td>\n",
       "      <td>Anti-Inflammatory Agents, Non-Steroidal</td>\n",
       "    </tr>\n",
       "    <tr>\n",
       "      <th>73</th>\n",
       "      <td>C0004057</td>\n",
       "      <td>aspirin</td>\n",
       "      <td>C0003419</td>\n",
       "      <td>Antipyretics</td>\n",
       "    </tr>\n",
       "    <tr>\n",
       "      <th>87</th>\n",
       "      <td>C0004057</td>\n",
       "      <td>aspirin</td>\n",
       "      <td>C0004057</td>\n",
       "      <td>aspirin</td>\n",
       "    </tr>\n",
       "    <tr>\n",
       "      <th>132</th>\n",
       "      <td>C0004057</td>\n",
       "      <td>aspirin</td>\n",
       "      <td>C0016018</td>\n",
       "      <td>Fibrinolytic Agents</td>\n",
       "    </tr>\n",
       "    <tr>\n",
       "      <th>...</th>\n",
       "      <td>...</td>\n",
       "      <td>...</td>\n",
       "      <td>...</td>\n",
       "      <td>...</td>\n",
       "    </tr>\n",
       "    <tr>\n",
       "      <th>10420</th>\n",
       "      <td>C4726929</td>\n",
       "      <td>upadacitinib</td>\n",
       "      <td>C4726929</td>\n",
       "      <td>upadacitinib</td>\n",
       "    </tr>\n",
       "    <tr>\n",
       "      <th>10426</th>\n",
       "      <td>C4741328</td>\n",
       "      <td>rituximab-abbs</td>\n",
       "      <td>C0393022</td>\n",
       "      <td>rituximab</td>\n",
       "    </tr>\n",
       "    <tr>\n",
       "      <th>10439</th>\n",
       "      <td>C5195655</td>\n",
       "      <td>rituximab-pvvr</td>\n",
       "      <td>C0393022</td>\n",
       "      <td>rituximab</td>\n",
       "    </tr>\n",
       "    <tr>\n",
       "      <th>10452</th>\n",
       "      <td>C5222083</td>\n",
       "      <td>infliximab-axxq</td>\n",
       "      <td>C0666743</td>\n",
       "      <td>infliximab</td>\n",
       "    </tr>\n",
       "    <tr>\n",
       "      <th>10468</th>\n",
       "      <td>C5432357</td>\n",
       "      <td>rituximab-arrx</td>\n",
       "      <td>C0393022</td>\n",
       "      <td>rituximab</td>\n",
       "    </tr>\n",
       "  </tbody>\n",
       "</table>\n",
       "<p>577 rows × 4 columns</p>\n",
       "</div>"
      ],
      "text/plain": [
       "      MedicationCui    MedicationStr  ClassCui  \\\n",
       "0          C0004057          aspirin  C0002771   \n",
       "30         C0004057          aspirin  C0003211   \n",
       "73         C0004057          aspirin  C0003419   \n",
       "87         C0004057          aspirin  C0004057   \n",
       "132        C0004057          aspirin  C0016018   \n",
       "...             ...              ...       ...   \n",
       "10420      C4726929     upadacitinib  C4726929   \n",
       "10426      C4741328   rituximab-abbs  C0393022   \n",
       "10439      C5195655   rituximab-pvvr  C0393022   \n",
       "10452      C5222083  infliximab-axxq  C0666743   \n",
       "10468      C5432357   rituximab-arrx  C0393022   \n",
       "\n",
       "                                      ClassStr  \n",
       "0                                   Analgesics  \n",
       "30     Anti-Inflammatory Agents, Non-Steroidal  \n",
       "73                                Antipyretics  \n",
       "87                                     aspirin  \n",
       "132                        Fibrinolytic Agents  \n",
       "...                                        ...  \n",
       "10420                             upadacitinib  \n",
       "10426                                rituximab  \n",
       "10439                                rituximab  \n",
       "10452                               infliximab  \n",
       "10468                                rituximab  \n",
       "\n",
       "[577 rows x 4 columns]"
      ]
     },
     "execution_count": 21,
     "metadata": {},
     "output_type": "execute_result"
    }
   ],
   "source": [
    "RAMedication"
   ]
  },
  {
   "cell_type": "code",
   "execution_count": null,
   "metadata": {},
   "outputs": [],
   "source": []
  }
 ],
 "metadata": {
  "kernelspec": {
   "display_name": "base",
   "language": "python",
   "name": "python3"
  },
  "language_info": {
   "codemirror_mode": {
    "name": "ipython",
    "version": 3
   },
   "file_extension": ".py",
   "mimetype": "text/x-python",
   "name": "python",
   "nbconvert_exporter": "python",
   "pygments_lexer": "ipython3",
   "version": "3.9.12"
  },
  "orig_nbformat": 4
 },
 "nbformat": 4,
 "nbformat_minor": 2
}
