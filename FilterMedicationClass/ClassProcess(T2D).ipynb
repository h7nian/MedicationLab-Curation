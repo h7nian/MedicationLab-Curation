{
 "cells": [
  {
   "cell_type": "code",
   "execution_count": 2,
   "metadata": {},
   "outputs": [],
   "source": [
    "import pandas as pd\n",
    "import numpy as np\n",
    "import plotly.express as px"
   ]
  },
  {
   "cell_type": "code",
   "execution_count": 3,
   "metadata": {},
   "outputs": [],
   "source": [
    "def find_third_largest(nums):\n",
    "    if len(nums) < 3:\n",
    "        return \"列表长度不足3\"\n",
    "    \n",
    "    # 将列表去重并排序\n",
    "    unique_nums = sorted(set(nums), reverse=True)\n",
    "    \n",
    "    if len(unique_nums) < 3:\n",
    "        return \"列表中没有第三大的数字\"\n",
    "    \n",
    "    return unique_nums[2]"
   ]
  },
  {
   "cell_type": "code",
   "execution_count": 4,
   "metadata": {},
   "outputs": [],
   "source": [
    "RAData = pd.read_csv(\"RA medication class(filtered).csv\")\n",
    "T2DData = pd.read_csv(\"T2D medication class(filtered).csv\")\n",
    "RAData = RAData.drop_duplicates(subset=[\"MedicationCui\",\"ClassCui\"]).reset_index(drop=True)\n",
    "T2DData = T2DData.drop_duplicates(subset=[\"MedicationCui\",\"ClassCui\"]).reset_index(drop=True)"
   ]
  },
  {
   "cell_type": "code",
   "execution_count": 5,
   "metadata": {},
   "outputs": [
    {
     "data": {
      "text/html": [
       "<div>\n",
       "<style scoped>\n",
       "    .dataframe tbody tr th:only-of-type {\n",
       "        vertical-align: middle;\n",
       "    }\n",
       "\n",
       "    .dataframe tbody tr th {\n",
       "        vertical-align: top;\n",
       "    }\n",
       "\n",
       "    .dataframe thead th {\n",
       "        text-align: right;\n",
       "    }\n",
       "</style>\n",
       "<table border=\"1\" class=\"dataframe\">\n",
       "  <thead>\n",
       "    <tr style=\"text-align: right;\">\n",
       "      <th></th>\n",
       "      <th>MedicationCui</th>\n",
       "      <th>MedicationStr</th>\n",
       "      <th>ClassCui</th>\n",
       "      <th>ClassStr</th>\n",
       "      <th>ClassCui(Synonym)</th>\n",
       "      <th>ClassStr(Synonym)</th>\n",
       "    </tr>\n",
       "  </thead>\n",
       "  <tbody>\n",
       "    <tr>\n",
       "      <th>0</th>\n",
       "      <td>C0008287</td>\n",
       "      <td>chlorpropamide</td>\n",
       "      <td>C0020616</td>\n",
       "      <td>Hypoglycemic Agents</td>\n",
       "      <td>C0017687</td>\n",
       "      <td>glukagon</td>\n",
       "    </tr>\n",
       "    <tr>\n",
       "      <th>1</th>\n",
       "      <td>C0008287</td>\n",
       "      <td>chlorpropamide</td>\n",
       "      <td>C0038766</td>\n",
       "      <td>Sulfonylurea Compounds</td>\n",
       "      <td>C0061323</td>\n",
       "      <td>glimepiride</td>\n",
       "    </tr>\n",
       "    <tr>\n",
       "      <th>2</th>\n",
       "      <td>C0017628</td>\n",
       "      <td>glyburide</td>\n",
       "      <td>C0017628</td>\n",
       "      <td>glyburide</td>\n",
       "      <td>C0081232</td>\n",
       "      <td>5-iodo-2-hydroxyglyburide</td>\n",
       "    </tr>\n",
       "    <tr>\n",
       "      <th>3</th>\n",
       "      <td>C0017628</td>\n",
       "      <td>glyburide</td>\n",
       "      <td>C0020616</td>\n",
       "      <td>Hypoglycemic Agents</td>\n",
       "      <td>C0017687</td>\n",
       "      <td>glukagon</td>\n",
       "    </tr>\n",
       "    <tr>\n",
       "      <th>4</th>\n",
       "      <td>C0017628</td>\n",
       "      <td>glyburide</td>\n",
       "      <td>C0038766</td>\n",
       "      <td>Sulfonylurea Compounds</td>\n",
       "      <td>C0061323</td>\n",
       "      <td>glimepiride</td>\n",
       "    </tr>\n",
       "    <tr>\n",
       "      <th>...</th>\n",
       "      <td>...</td>\n",
       "      <td>...</td>\n",
       "      <td>...</td>\n",
       "      <td>...</td>\n",
       "      <td>...</td>\n",
       "      <td>...</td>\n",
       "    </tr>\n",
       "    <tr>\n",
       "      <th>125</th>\n",
       "      <td>C3491971</td>\n",
       "      <td>insulin degludec</td>\n",
       "      <td>C0013227</td>\n",
       "      <td>Pharmaceutical Preparations</td>\n",
       "      <td>C0304232</td>\n",
       "      <td>Type of drug preparation</td>\n",
       "    </tr>\n",
       "    <tr>\n",
       "      <th>126</th>\n",
       "      <td>C3491971</td>\n",
       "      <td>insulin degludec</td>\n",
       "      <td>C0021641</td>\n",
       "      <td>Insulin</td>\n",
       "      <td>C0020616</td>\n",
       "      <td>hypoglykemika</td>\n",
       "    </tr>\n",
       "    <tr>\n",
       "      <th>127</th>\n",
       "      <td>C3555622</td>\n",
       "      <td>dapagliflozin propanediol</td>\n",
       "      <td>C2353951</td>\n",
       "      <td>dapagliflozin</td>\n",
       "      <td>NaN</td>\n",
       "      <td>NaN</td>\n",
       "    </tr>\n",
       "    <tr>\n",
       "      <th>128</th>\n",
       "      <td>C3555622</td>\n",
       "      <td>dapagliflozin propanediol</td>\n",
       "      <td>C3273807</td>\n",
       "      <td>Sodium-Glucose Transporter 2 Inhibitors</td>\n",
       "      <td>NaN</td>\n",
       "      <td>NaN</td>\n",
       "    </tr>\n",
       "    <tr>\n",
       "      <th>129</th>\n",
       "      <td>C3555622</td>\n",
       "      <td>dapagliflozin propanediol</td>\n",
       "      <td>C3838944</td>\n",
       "      <td>Sodium glucose cotransporter subtype 2 inhibitor</td>\n",
       "      <td>C3542461</td>\n",
       "      <td>Sodium-Glucose Cotransporter 2 Inhibitor [EPC]</td>\n",
       "    </tr>\n",
       "  </tbody>\n",
       "</table>\n",
       "<p>130 rows × 6 columns</p>\n",
       "</div>"
      ],
      "text/plain": [
       "    MedicationCui              MedicationStr  ClassCui  \\\n",
       "0        C0008287             chlorpropamide  C0020616   \n",
       "1        C0008287             chlorpropamide  C0038766   \n",
       "2        C0017628                  glyburide  C0017628   \n",
       "3        C0017628                  glyburide  C0020616   \n",
       "4        C0017628                  glyburide  C0038766   \n",
       "..            ...                        ...       ...   \n",
       "125      C3491971           insulin degludec  C0013227   \n",
       "126      C3491971           insulin degludec  C0021641   \n",
       "127      C3555622  dapagliflozin propanediol  C2353951   \n",
       "128      C3555622  dapagliflozin propanediol  C3273807   \n",
       "129      C3555622  dapagliflozin propanediol  C3838944   \n",
       "\n",
       "                                             ClassStr ClassCui(Synonym)  \\\n",
       "0                                 Hypoglycemic Agents          C0017687   \n",
       "1                              Sulfonylurea Compounds          C0061323   \n",
       "2                                           glyburide          C0081232   \n",
       "3                                 Hypoglycemic Agents          C0017687   \n",
       "4                              Sulfonylurea Compounds          C0061323   \n",
       "..                                                ...               ...   \n",
       "125                       Pharmaceutical Preparations          C0304232   \n",
       "126                                           Insulin          C0020616   \n",
       "127                                     dapagliflozin               NaN   \n",
       "128           Sodium-Glucose Transporter 2 Inhibitors               NaN   \n",
       "129  Sodium glucose cotransporter subtype 2 inhibitor          C3542461   \n",
       "\n",
       "                                  ClassStr(Synonym)  \n",
       "0                                          glukagon  \n",
       "1                                       glimepiride  \n",
       "2                         5-iodo-2-hydroxyglyburide  \n",
       "3                                          glukagon  \n",
       "4                                       glimepiride  \n",
       "..                                              ...  \n",
       "125                        Type of drug preparation  \n",
       "126                                   hypoglykemika  \n",
       "127                                             NaN  \n",
       "128                                             NaN  \n",
       "129  Sodium-Glucose Cotransporter 2 Inhibitor [EPC]  \n",
       "\n",
       "[130 rows x 6 columns]"
      ]
     },
     "execution_count": 5,
     "metadata": {},
     "output_type": "execute_result"
    }
   ],
   "source": [
    "T2DData"
   ]
  },
  {
   "cell_type": "code",
   "execution_count": 6,
   "metadata": {},
   "outputs": [],
   "source": [
    "## Change T2DData[['MedicationStr','ClassStr']] into Dictionary. The key is ClassStr, and the value is MedicationStr which belongs to the ClassStr.\n",
    "T2DDataDict = {}\n",
    "for i in range(len(T2DData)):\n",
    "    if T2DData.loc[i,'ClassStr'] not in T2DDataDict:\n",
    "        T2DDataDict[T2DData.loc[i,'ClassStr']] = [T2DData.loc[i,'MedicationStr']]\n",
    "    else:\n",
    "        T2DDataDict[T2DData.loc[i,'ClassStr']].append(T2DData.loc[i,'MedicationStr'])"
   ]
  },
  {
   "cell_type": "code",
   "execution_count": 7,
   "metadata": {},
   "outputs": [],
   "source": [
    "## Intersection Number\n",
    "IntersectionNumber = {}\n",
    "for key1 in T2DDataDict.keys():\n",
    "    IntersectionNumber[key1] = 0\n",
    "    for key2 in T2DDataDict.keys():\n",
    "        if key1 != key2 and len(set(T2DDataDict[key1]) & set(T2DDataDict[key2]))>0:\n",
    "            IntersectionNumber[key1] += 1"
   ]
  },
  {
   "cell_type": "code",
   "execution_count": 8,
   "metadata": {},
   "outputs": [
    {
     "data": {
      "text/plain": [
       "{'Hypoglycemic Agents': 28,\n",
       " 'Sulfonylurea Compounds': 4,\n",
       " 'glyburide': 2,\n",
       " 'glipizide': 2,\n",
       " 'Carbohydrates': 7,\n",
       " 'acarbose': 7,\n",
       " 'Meglitinide': 9,\n",
       " 'Oral hypoglycemic': 13,\n",
       " 'Antidiabetics': 19,\n",
       " 'alpha-Glucosidase Inhibitors': 7,\n",
       " 'Glucosidase Inhibitor': 7,\n",
       " 'glimepiride': 2,\n",
       " 'Thiazolidinediones': 4,\n",
       " 'Insulin': 6,\n",
       " 'Insulin, Short-Acting': 3,\n",
       " 'insulin, regular, human': 7,\n",
       " 'exenatide': 4,\n",
       " 'Product containing glucagon-like peptide 1 receptor agonist (product)': 6,\n",
       " 'Incretins': 6,\n",
       " 'Glinides': 4,\n",
       " 'Pharmaceutical Preparations': 4,\n",
       " 'Quaternary Ammonium Compounds': 1,\n",
       " 'metformin': 1,\n",
       " 'insulin isophane': 3,\n",
       " 'insulin isophane, human': 3,\n",
       " 'pioglitazone': 1,\n",
       " 'nateglinide': 4,\n",
       " 'Insulin, Long-Acting': 4,\n",
       " 'Basal insulin': 4,\n",
       " 'Dipeptidyl-Peptidase IV Inhibitors': 3,\n",
       " 'dapagliflozin': 3,\n",
       " 'Sodium-Glucose Transporter 2 Inhibitors': 5,\n",
       " 'Sodium glucose cotransporter subtype 2 inhibitor': 5,\n",
       " 'canagliflozin': 3,\n",
       " 'Peptides': 4,\n",
       " 'dulaglutide': 4,\n",
       " 'empagliflozin': 3}"
      ]
     },
     "execution_count": 8,
     "metadata": {},
     "output_type": "execute_result"
    }
   ],
   "source": [
    "IntersectionNumber"
   ]
  },
  {
   "cell_type": "code",
   "execution_count": 9,
   "metadata": {},
   "outputs": [],
   "source": [
    "## find the class which has the most intersection with other classes\n",
    "class_to_remove = []\n",
    "\n",
    "threshold = find_third_largest(list(IntersectionNumber.values()))\n",
    "for key in IntersectionNumber.keys():\n",
    "    if IntersectionNumber[key] >= threshold:\n",
    "        class_to_remove.append(key)\n",
    "        \n",
    "for key in class_to_remove:\n",
    "    del T2DDataDict[key]"
   ]
  },
  {
   "cell_type": "code",
   "execution_count": 10,
   "metadata": {},
   "outputs": [
    {
     "data": {
      "text/plain": [
       "['exenatide',\n",
       " 'Basal insulin',\n",
       " 'Peptides',\n",
       " 'alpha-Glucosidase Inhibitors',\n",
       " 'insulin isophane, human',\n",
       " 'glimepiride',\n",
       " 'dapagliflozin',\n",
       " 'nateglinide',\n",
       " 'glipizide',\n",
       " 'glyburide',\n",
       " 'Glinides',\n",
       " 'canagliflozin',\n",
       " 'dulaglutide',\n",
       " 'empagliflozin',\n",
       " 'Quaternary Ammonium Compounds',\n",
       " 'Sodium glucose cotransporter subtype 2 inhibitor',\n",
       " 'Insulin, Short-Acting',\n",
       " 'insulin isophane',\n",
       " 'Carbohydrates',\n",
       " 'pioglitazone',\n",
       " 'Insulin, Long-Acting',\n",
       " 'acarbose']"
      ]
     },
     "execution_count": 10,
     "metadata": {},
     "output_type": "execute_result"
    }
   ],
   "source": [
    "## remove the key which is the subset of other key\n",
    "class_to_remove = []  \n",
    "class_used = []\n",
    "for key in T2DDataDict.keys():\n",
    "    data = T2DDataDict[key]\n",
    "    for supkey in T2DDataDict.keys():\n",
    "        if supkey == key or supkey in class_used:\n",
    "            continue\n",
    "        supdata = T2DDataDict[supkey]\n",
    "        if set(data).issubset(set(supdata)):\n",
    "            class_used.append(key)\n",
    "            class_to_remove.append(key)  \n",
    "\n",
    "class_to_remove = list(set(class_to_remove))\n",
    "class_to_remove"
   ]
  },
  {
   "cell_type": "code",
   "execution_count": 11,
   "metadata": {},
   "outputs": [],
   "source": [
    "for key in class_to_remove:\n",
    "    del T2DDataDict[key]"
   ]
  },
  {
   "cell_type": "code",
   "execution_count": 12,
   "metadata": {},
   "outputs": [],
   "source": [
    "#Judge the number of the class contain one medication\n",
    "single_class = []\n",
    "for key in T2DDataDict.keys():\n",
    "    if len(T2DDataDict[key]) == 1:\n",
    "        single_class.append(key)\n",
    "#Change the key of the single class to 'other' \n",
    "if len(single_class) > 0:\n",
    "    T2DDataDict['other'] = T2DDataDict[single_class[0]]\n",
    "    del T2DDataDict[single_class[0]]\n",
    "    for i in range(1,len(single_class)):\n",
    "        T2DDataDict['other'] = T2DDataDict['other'] + T2DDataDict[single_class[i]]\n",
    "        del T2DDataDict[single_class[i]]"
   ]
  },
  {
   "cell_type": "code",
   "execution_count": 13,
   "metadata": {},
   "outputs": [],
   "source": [
    "#change the dictionary into dataframe\n",
    "T2DData = pd.DataFrame(columns=['ClassStr', 'MedicationStr'])\n",
    "for key in T2DDataDict.keys():\n",
    "    for value in T2DDataDict[key]:\n",
    "        row = {'ClassStr': key, 'MedicationStr': value}\n",
    "        T2DData = pd.concat([T2DData, pd.DataFrame([row])])"
   ]
  },
  {
   "cell_type": "code",
   "execution_count": 14,
   "metadata": {},
   "outputs": [],
   "source": [
    "T2DData['Disease'] = 'T2D'"
   ]
  },
  {
   "cell_type": "code",
   "execution_count": 15,
   "metadata": {},
   "outputs": [],
   "source": [
    "T2DData.to_csv(\"PlotMedicationData(T2D).csv\",index=False,encoding='utf_8_sig')"
   ]
  },
  {
   "cell_type": "markdown",
   "metadata": {},
   "source": [
    "## ALL"
   ]
  },
  {
   "cell_type": "code",
   "execution_count": 16,
   "metadata": {},
   "outputs": [
    {
     "data": {
      "application/vnd.plotly.v1+json": {
       "config": {
        "plotlyServerURL": "https://plot.ly"
       },
       "data": [
        {
         "branchvalues": "total",
         "domain": {
          "x": [
           0,
           1
          ],
          "y": [
           0,
           1
          ]
         },
         "hovertemplate": "labels=%{label}<br>count=%{value}<br>parent=%{parent}<br>id=%{id}<extra></extra>",
         "ids": [
          "T2D/Glucosidase Inhibitor/acarbose",
          "T2D/Meglitinide/acarbose",
          "T2D/Product containing glucagon-like peptide 1 receptor agonist (product)/albiglutide",
          "T2D/Dipeptidyl-Peptidase IV Inhibitors/alogliptin",
          "T2D/Incretins/alogliptin",
          "T2D/Dipeptidyl-Peptidase IV Inhibitors/alogliptin benzoate",
          "T2D/Sodium-Glucose Transporter 2 Inhibitors/canagliflozin",
          "T2D/Sodium-Glucose Transporter 2 Inhibitors/canagliflozin anhydrous",
          "T2D/Sulfonylurea Compounds/chlorpropamide",
          "T2D/Pharmaceutical Preparations/colesevelam",
          "T2D/Sodium-Glucose Transporter 2 Inhibitors/dapagliflozin",
          "T2D/Sodium-Glucose Transporter 2 Inhibitors/dapagliflozin propanediol",
          "T2D/Product containing glucagon-like peptide 1 receptor agonist (product)/dulaglutide",
          "T2D/Sodium-Glucose Transporter 2 Inhibitors/empagliflozin",
          "T2D/Incretins/exenatide",
          "T2D/Product containing glucagon-like peptide 1 receptor agonist (product)/exenatide",
          "T2D/Sulfonylurea Compounds/glimepiride",
          "T2D/Sulfonylurea Compounds/glipizide",
          "T2D/Sulfonylurea Compounds/glyburide",
          "T2D/insulin, regular, human/insulin aspart protamine, human",
          "T2D/Insulin/insulin aspart, human",
          "T2D/insulin, regular, human/insulin aspart, human",
          "T2D/Insulin/insulin degludec",
          "T2D/Pharmaceutical Preparations/insulin degludec",
          "T2D/Insulin/insulin glargine",
          "T2D/insulin, regular, human/insulin glargine",
          "T2D/insulin, regular, human/insulin glulisine, human",
          "T2D/insulin, regular, human/insulin isophane, human",
          "T2D/insulin, regular, human/insulin lispro",
          "T2D/insulin, regular, human/insulin lispro protamine, human",
          "T2D/Insulin/insulin, regular, human",
          "T2D/insulin, regular, human/insulin, regular, human",
          "T2D/Dipeptidyl-Peptidase IV Inhibitors/linagliptin",
          "T2D/Incretins/linagliptin",
          "T2D/Product containing glucagon-like peptide 1 receptor agonist (product)/lixisenatide",
          "T2D/other/metformin hydrochloride",
          "T2D/Glucosidase Inhibitor/miglitol",
          "T2D/Meglitinide/nateglinide",
          "T2D/Thiazolidinediones/pioglitazone",
          "T2D/Thiazolidinediones/pioglitazone hydrochloride",
          "T2D/Pharmaceutical Preparations/pramlintide",
          "T2D/Meglitinide/repaglinide",
          "T2D/Thiazolidinediones/rosiglitazone",
          "T2D/Dipeptidyl-Peptidase IV Inhibitors/saxagliptin",
          "T2D/Incretins/saxagliptin",
          "T2D/Dipeptidyl-Peptidase IV Inhibitors/saxagliptin hydrochloride",
          "T2D/Dipeptidyl-Peptidase IV Inhibitors/sitagliptin",
          "T2D/Dipeptidyl-Peptidase IV Inhibitors/sitagliptin phosphate",
          "T2D/Incretins/sitagliptin phosphate",
          "T2D/Sulfonylurea Compounds/tolazamide",
          "T2D/Sulfonylurea Compounds/tolbutamide",
          "T2D/Dipeptidyl-Peptidase IV Inhibitors",
          "T2D/Glucosidase Inhibitor",
          "T2D/Incretins",
          "T2D/Insulin",
          "T2D/Meglitinide",
          "T2D/Pharmaceutical Preparations",
          "T2D/Product containing glucagon-like peptide 1 receptor agonist (product)",
          "T2D/Sodium-Glucose Transporter 2 Inhibitors",
          "T2D/Sulfonylurea Compounds",
          "T2D/Thiazolidinediones",
          "T2D/insulin, regular, human",
          "T2D/other",
          "T2D"
         ],
         "labels": [
          "acarbose",
          "acarbose",
          "albiglutide",
          "alogliptin",
          "alogliptin",
          "alogliptin benzoate",
          "canagliflozin",
          "canagliflozin anhydrous",
          "chlorpropamide",
          "colesevelam",
          "dapagliflozin",
          "dapagliflozin propanediol",
          "dulaglutide",
          "empagliflozin",
          "exenatide",
          "exenatide",
          "glimepiride",
          "glipizide",
          "glyburide",
          "insulin aspart protamine, human",
          "insulin aspart, human",
          "insulin aspart, human",
          "insulin degludec",
          "insulin degludec",
          "insulin glargine",
          "insulin glargine",
          "insulin glulisine, human",
          "insulin isophane, human",
          "insulin lispro",
          "insulin lispro protamine, human",
          "insulin, regular, human",
          "insulin, regular, human",
          "linagliptin",
          "linagliptin",
          "lixisenatide",
          "metformin hydrochloride",
          "miglitol",
          "nateglinide",
          "pioglitazone",
          "pioglitazone hydrochloride",
          "pramlintide",
          "repaglinide",
          "rosiglitazone",
          "saxagliptin",
          "saxagliptin",
          "saxagliptin hydrochloride",
          "sitagliptin",
          "sitagliptin phosphate",
          "sitagliptin phosphate",
          "tolazamide",
          "tolbutamide",
          "Dipeptidyl-Peptidase IV Inhibitors",
          "Glucosidase Inhibitor",
          "Incretins",
          "Insulin",
          "Meglitinide",
          "Pharmaceutical Preparations",
          "Product containing glucagon-like peptide 1 receptor agonist (product)",
          "Sodium-Glucose Transporter 2 Inhibitors",
          "Sulfonylurea Compounds",
          "Thiazolidinediones",
          "insulin, regular, human",
          "other",
          "T2D"
         ],
         "name": "",
         "parents": [
          "T2D/Glucosidase Inhibitor",
          "T2D/Meglitinide",
          "T2D/Product containing glucagon-like peptide 1 receptor agonist (product)",
          "T2D/Dipeptidyl-Peptidase IV Inhibitors",
          "T2D/Incretins",
          "T2D/Dipeptidyl-Peptidase IV Inhibitors",
          "T2D/Sodium-Glucose Transporter 2 Inhibitors",
          "T2D/Sodium-Glucose Transporter 2 Inhibitors",
          "T2D/Sulfonylurea Compounds",
          "T2D/Pharmaceutical Preparations",
          "T2D/Sodium-Glucose Transporter 2 Inhibitors",
          "T2D/Sodium-Glucose Transporter 2 Inhibitors",
          "T2D/Product containing glucagon-like peptide 1 receptor agonist (product)",
          "T2D/Sodium-Glucose Transporter 2 Inhibitors",
          "T2D/Incretins",
          "T2D/Product containing glucagon-like peptide 1 receptor agonist (product)",
          "T2D/Sulfonylurea Compounds",
          "T2D/Sulfonylurea Compounds",
          "T2D/Sulfonylurea Compounds",
          "T2D/insulin, regular, human",
          "T2D/Insulin",
          "T2D/insulin, regular, human",
          "T2D/Insulin",
          "T2D/Pharmaceutical Preparations",
          "T2D/Insulin",
          "T2D/insulin, regular, human",
          "T2D/insulin, regular, human",
          "T2D/insulin, regular, human",
          "T2D/insulin, regular, human",
          "T2D/insulin, regular, human",
          "T2D/Insulin",
          "T2D/insulin, regular, human",
          "T2D/Dipeptidyl-Peptidase IV Inhibitors",
          "T2D/Incretins",
          "T2D/Product containing glucagon-like peptide 1 receptor agonist (product)",
          "T2D/other",
          "T2D/Glucosidase Inhibitor",
          "T2D/Meglitinide",
          "T2D/Thiazolidinediones",
          "T2D/Thiazolidinediones",
          "T2D/Pharmaceutical Preparations",
          "T2D/Meglitinide",
          "T2D/Thiazolidinediones",
          "T2D/Dipeptidyl-Peptidase IV Inhibitors",
          "T2D/Incretins",
          "T2D/Dipeptidyl-Peptidase IV Inhibitors",
          "T2D/Dipeptidyl-Peptidase IV Inhibitors",
          "T2D/Dipeptidyl-Peptidase IV Inhibitors",
          "T2D/Incretins",
          "T2D/Sulfonylurea Compounds",
          "T2D/Sulfonylurea Compounds",
          "T2D",
          "T2D",
          "T2D",
          "T2D",
          "T2D",
          "T2D",
          "T2D",
          "T2D",
          "T2D",
          "T2D",
          "T2D",
          "T2D",
          ""
         ],
         "type": "sunburst",
         "values": [
          1,
          1,
          1,
          1,
          1,
          1,
          1,
          1,
          1,
          1,
          1,
          1,
          1,
          1,
          1,
          1,
          1,
          1,
          1,
          1,
          1,
          1,
          1,
          1,
          1,
          1,
          1,
          1,
          1,
          1,
          1,
          1,
          1,
          1,
          1,
          1,
          1,
          1,
          1,
          1,
          1,
          1,
          1,
          1,
          1,
          1,
          1,
          1,
          1,
          1,
          1,
          7,
          2,
          5,
          4,
          3,
          3,
          4,
          5,
          6,
          3,
          8,
          1,
          51
         ]
        }
       ],
       "layout": {
        "height": 750,
        "legend": {
         "tracegroupgap": 0
        },
        "template": {
         "data": {
          "bar": [
           {
            "error_x": {
             "color": "#2a3f5f"
            },
            "error_y": {
             "color": "#2a3f5f"
            },
            "marker": {
             "line": {
              "color": "#E5ECF6",
              "width": 0.5
             },
             "pattern": {
              "fillmode": "overlay",
              "size": 10,
              "solidity": 0.2
             }
            },
            "type": "bar"
           }
          ],
          "barpolar": [
           {
            "marker": {
             "line": {
              "color": "#E5ECF6",
              "width": 0.5
             },
             "pattern": {
              "fillmode": "overlay",
              "size": 10,
              "solidity": 0.2
             }
            },
            "type": "barpolar"
           }
          ],
          "carpet": [
           {
            "aaxis": {
             "endlinecolor": "#2a3f5f",
             "gridcolor": "white",
             "linecolor": "white",
             "minorgridcolor": "white",
             "startlinecolor": "#2a3f5f"
            },
            "baxis": {
             "endlinecolor": "#2a3f5f",
             "gridcolor": "white",
             "linecolor": "white",
             "minorgridcolor": "white",
             "startlinecolor": "#2a3f5f"
            },
            "type": "carpet"
           }
          ],
          "choropleth": [
           {
            "colorbar": {
             "outlinewidth": 0,
             "ticks": ""
            },
            "type": "choropleth"
           }
          ],
          "contour": [
           {
            "colorbar": {
             "outlinewidth": 0,
             "ticks": ""
            },
            "colorscale": [
             [
              0,
              "#0d0887"
             ],
             [
              0.1111111111111111,
              "#46039f"
             ],
             [
              0.2222222222222222,
              "#7201a8"
             ],
             [
              0.3333333333333333,
              "#9c179e"
             ],
             [
              0.4444444444444444,
              "#bd3786"
             ],
             [
              0.5555555555555556,
              "#d8576b"
             ],
             [
              0.6666666666666666,
              "#ed7953"
             ],
             [
              0.7777777777777778,
              "#fb9f3a"
             ],
             [
              0.8888888888888888,
              "#fdca26"
             ],
             [
              1,
              "#f0f921"
             ]
            ],
            "type": "contour"
           }
          ],
          "contourcarpet": [
           {
            "colorbar": {
             "outlinewidth": 0,
             "ticks": ""
            },
            "type": "contourcarpet"
           }
          ],
          "heatmap": [
           {
            "colorbar": {
             "outlinewidth": 0,
             "ticks": ""
            },
            "colorscale": [
             [
              0,
              "#0d0887"
             ],
             [
              0.1111111111111111,
              "#46039f"
             ],
             [
              0.2222222222222222,
              "#7201a8"
             ],
             [
              0.3333333333333333,
              "#9c179e"
             ],
             [
              0.4444444444444444,
              "#bd3786"
             ],
             [
              0.5555555555555556,
              "#d8576b"
             ],
             [
              0.6666666666666666,
              "#ed7953"
             ],
             [
              0.7777777777777778,
              "#fb9f3a"
             ],
             [
              0.8888888888888888,
              "#fdca26"
             ],
             [
              1,
              "#f0f921"
             ]
            ],
            "type": "heatmap"
           }
          ],
          "heatmapgl": [
           {
            "colorbar": {
             "outlinewidth": 0,
             "ticks": ""
            },
            "colorscale": [
             [
              0,
              "#0d0887"
             ],
             [
              0.1111111111111111,
              "#46039f"
             ],
             [
              0.2222222222222222,
              "#7201a8"
             ],
             [
              0.3333333333333333,
              "#9c179e"
             ],
             [
              0.4444444444444444,
              "#bd3786"
             ],
             [
              0.5555555555555556,
              "#d8576b"
             ],
             [
              0.6666666666666666,
              "#ed7953"
             ],
             [
              0.7777777777777778,
              "#fb9f3a"
             ],
             [
              0.8888888888888888,
              "#fdca26"
             ],
             [
              1,
              "#f0f921"
             ]
            ],
            "type": "heatmapgl"
           }
          ],
          "histogram": [
           {
            "marker": {
             "pattern": {
              "fillmode": "overlay",
              "size": 10,
              "solidity": 0.2
             }
            },
            "type": "histogram"
           }
          ],
          "histogram2d": [
           {
            "colorbar": {
             "outlinewidth": 0,
             "ticks": ""
            },
            "colorscale": [
             [
              0,
              "#0d0887"
             ],
             [
              0.1111111111111111,
              "#46039f"
             ],
             [
              0.2222222222222222,
              "#7201a8"
             ],
             [
              0.3333333333333333,
              "#9c179e"
             ],
             [
              0.4444444444444444,
              "#bd3786"
             ],
             [
              0.5555555555555556,
              "#d8576b"
             ],
             [
              0.6666666666666666,
              "#ed7953"
             ],
             [
              0.7777777777777778,
              "#fb9f3a"
             ],
             [
              0.8888888888888888,
              "#fdca26"
             ],
             [
              1,
              "#f0f921"
             ]
            ],
            "type": "histogram2d"
           }
          ],
          "histogram2dcontour": [
           {
            "colorbar": {
             "outlinewidth": 0,
             "ticks": ""
            },
            "colorscale": [
             [
              0,
              "#0d0887"
             ],
             [
              0.1111111111111111,
              "#46039f"
             ],
             [
              0.2222222222222222,
              "#7201a8"
             ],
             [
              0.3333333333333333,
              "#9c179e"
             ],
             [
              0.4444444444444444,
              "#bd3786"
             ],
             [
              0.5555555555555556,
              "#d8576b"
             ],
             [
              0.6666666666666666,
              "#ed7953"
             ],
             [
              0.7777777777777778,
              "#fb9f3a"
             ],
             [
              0.8888888888888888,
              "#fdca26"
             ],
             [
              1,
              "#f0f921"
             ]
            ],
            "type": "histogram2dcontour"
           }
          ],
          "mesh3d": [
           {
            "colorbar": {
             "outlinewidth": 0,
             "ticks": ""
            },
            "type": "mesh3d"
           }
          ],
          "parcoords": [
           {
            "line": {
             "colorbar": {
              "outlinewidth": 0,
              "ticks": ""
             }
            },
            "type": "parcoords"
           }
          ],
          "pie": [
           {
            "automargin": true,
            "type": "pie"
           }
          ],
          "scatter": [
           {
            "fillpattern": {
             "fillmode": "overlay",
             "size": 10,
             "solidity": 0.2
            },
            "type": "scatter"
           }
          ],
          "scatter3d": [
           {
            "line": {
             "colorbar": {
              "outlinewidth": 0,
              "ticks": ""
             }
            },
            "marker": {
             "colorbar": {
              "outlinewidth": 0,
              "ticks": ""
             }
            },
            "type": "scatter3d"
           }
          ],
          "scattercarpet": [
           {
            "marker": {
             "colorbar": {
              "outlinewidth": 0,
              "ticks": ""
             }
            },
            "type": "scattercarpet"
           }
          ],
          "scattergeo": [
           {
            "marker": {
             "colorbar": {
              "outlinewidth": 0,
              "ticks": ""
             }
            },
            "type": "scattergeo"
           }
          ],
          "scattergl": [
           {
            "marker": {
             "colorbar": {
              "outlinewidth": 0,
              "ticks": ""
             }
            },
            "type": "scattergl"
           }
          ],
          "scattermapbox": [
           {
            "marker": {
             "colorbar": {
              "outlinewidth": 0,
              "ticks": ""
             }
            },
            "type": "scattermapbox"
           }
          ],
          "scatterpolar": [
           {
            "marker": {
             "colorbar": {
              "outlinewidth": 0,
              "ticks": ""
             }
            },
            "type": "scatterpolar"
           }
          ],
          "scatterpolargl": [
           {
            "marker": {
             "colorbar": {
              "outlinewidth": 0,
              "ticks": ""
             }
            },
            "type": "scatterpolargl"
           }
          ],
          "scatterternary": [
           {
            "marker": {
             "colorbar": {
              "outlinewidth": 0,
              "ticks": ""
             }
            },
            "type": "scatterternary"
           }
          ],
          "surface": [
           {
            "colorbar": {
             "outlinewidth": 0,
             "ticks": ""
            },
            "colorscale": [
             [
              0,
              "#0d0887"
             ],
             [
              0.1111111111111111,
              "#46039f"
             ],
             [
              0.2222222222222222,
              "#7201a8"
             ],
             [
              0.3333333333333333,
              "#9c179e"
             ],
             [
              0.4444444444444444,
              "#bd3786"
             ],
             [
              0.5555555555555556,
              "#d8576b"
             ],
             [
              0.6666666666666666,
              "#ed7953"
             ],
             [
              0.7777777777777778,
              "#fb9f3a"
             ],
             [
              0.8888888888888888,
              "#fdca26"
             ],
             [
              1,
              "#f0f921"
             ]
            ],
            "type": "surface"
           }
          ],
          "table": [
           {
            "cells": {
             "fill": {
              "color": "#EBF0F8"
             },
             "line": {
              "color": "white"
             }
            },
            "header": {
             "fill": {
              "color": "#C8D4E3"
             },
             "line": {
              "color": "white"
             }
            },
            "type": "table"
           }
          ]
         },
         "layout": {
          "annotationdefaults": {
           "arrowcolor": "#2a3f5f",
           "arrowhead": 0,
           "arrowwidth": 1
          },
          "autotypenumbers": "strict",
          "coloraxis": {
           "colorbar": {
            "outlinewidth": 0,
            "ticks": ""
           }
          },
          "colorscale": {
           "diverging": [
            [
             0,
             "#8e0152"
            ],
            [
             0.1,
             "#c51b7d"
            ],
            [
             0.2,
             "#de77ae"
            ],
            [
             0.3,
             "#f1b6da"
            ],
            [
             0.4,
             "#fde0ef"
            ],
            [
             0.5,
             "#f7f7f7"
            ],
            [
             0.6,
             "#e6f5d0"
            ],
            [
             0.7,
             "#b8e186"
            ],
            [
             0.8,
             "#7fbc41"
            ],
            [
             0.9,
             "#4d9221"
            ],
            [
             1,
             "#276419"
            ]
           ],
           "sequential": [
            [
             0,
             "#0d0887"
            ],
            [
             0.1111111111111111,
             "#46039f"
            ],
            [
             0.2222222222222222,
             "#7201a8"
            ],
            [
             0.3333333333333333,
             "#9c179e"
            ],
            [
             0.4444444444444444,
             "#bd3786"
            ],
            [
             0.5555555555555556,
             "#d8576b"
            ],
            [
             0.6666666666666666,
             "#ed7953"
            ],
            [
             0.7777777777777778,
             "#fb9f3a"
            ],
            [
             0.8888888888888888,
             "#fdca26"
            ],
            [
             1,
             "#f0f921"
            ]
           ],
           "sequentialminus": [
            [
             0,
             "#0d0887"
            ],
            [
             0.1111111111111111,
             "#46039f"
            ],
            [
             0.2222222222222222,
             "#7201a8"
            ],
            [
             0.3333333333333333,
             "#9c179e"
            ],
            [
             0.4444444444444444,
             "#bd3786"
            ],
            [
             0.5555555555555556,
             "#d8576b"
            ],
            [
             0.6666666666666666,
             "#ed7953"
            ],
            [
             0.7777777777777778,
             "#fb9f3a"
            ],
            [
             0.8888888888888888,
             "#fdca26"
            ],
            [
             1,
             "#f0f921"
            ]
           ]
          },
          "colorway": [
           "#636efa",
           "#EF553B",
           "#00cc96",
           "#ab63fa",
           "#FFA15A",
           "#19d3f3",
           "#FF6692",
           "#B6E880",
           "#FF97FF",
           "#FECB52"
          ],
          "font": {
           "color": "#2a3f5f"
          },
          "geo": {
           "bgcolor": "white",
           "lakecolor": "white",
           "landcolor": "#E5ECF6",
           "showlakes": true,
           "showland": true,
           "subunitcolor": "white"
          },
          "hoverlabel": {
           "align": "left"
          },
          "hovermode": "closest",
          "mapbox": {
           "style": "light"
          },
          "paper_bgcolor": "white",
          "plot_bgcolor": "#E5ECF6",
          "polar": {
           "angularaxis": {
            "gridcolor": "white",
            "linecolor": "white",
            "ticks": ""
           },
           "bgcolor": "#E5ECF6",
           "radialaxis": {
            "gridcolor": "white",
            "linecolor": "white",
            "ticks": ""
           }
          },
          "scene": {
           "xaxis": {
            "backgroundcolor": "#E5ECF6",
            "gridcolor": "white",
            "gridwidth": 2,
            "linecolor": "white",
            "showbackground": true,
            "ticks": "",
            "zerolinecolor": "white"
           },
           "yaxis": {
            "backgroundcolor": "#E5ECF6",
            "gridcolor": "white",
            "gridwidth": 2,
            "linecolor": "white",
            "showbackground": true,
            "ticks": "",
            "zerolinecolor": "white"
           },
           "zaxis": {
            "backgroundcolor": "#E5ECF6",
            "gridcolor": "white",
            "gridwidth": 2,
            "linecolor": "white",
            "showbackground": true,
            "ticks": "",
            "zerolinecolor": "white"
           }
          },
          "shapedefaults": {
           "line": {
            "color": "#2a3f5f"
           }
          },
          "ternary": {
           "aaxis": {
            "gridcolor": "white",
            "linecolor": "white",
            "ticks": ""
           },
           "baxis": {
            "gridcolor": "white",
            "linecolor": "white",
            "ticks": ""
           },
           "bgcolor": "#E5ECF6",
           "caxis": {
            "gridcolor": "white",
            "linecolor": "white",
            "ticks": ""
           }
          },
          "title": {
           "x": 0.05
          },
          "xaxis": {
           "automargin": true,
           "gridcolor": "white",
           "linecolor": "white",
           "ticks": "",
           "title": {
            "standoff": 15
           },
           "zerolinecolor": "white",
           "zerolinewidth": 2
          },
          "yaxis": {
           "automargin": true,
           "gridcolor": "white",
           "linecolor": "white",
           "ticks": "",
           "title": {
            "standoff": 15
           },
           "zerolinecolor": "white",
           "zerolinewidth": 2
          }
         }
        },
        "title": {
         "text": "T2D Medication(Rule Filtered)"
        },
        "width": 750
       }
      }
     },
     "metadata": {},
     "output_type": "display_data"
    }
   ],
   "source": [
    "fig = px.sunburst(T2DData,\n",
    "                  path=[\"Disease\", \"ClassStr\", \"MedicationStr\",],\n",
    "                  width=750, height=750,\n",
    "                  title=\"T2D Medication(Rule Filtered)\",\n",
    "                  )\n",
    "fig.write_html(\"T2D Medication(Rule Filtered).html\")\n",
    "fig.show()"
   ]
  },
  {
   "cell_type": "code",
   "execution_count": null,
   "metadata": {},
   "outputs": [],
   "source": []
  }
 ],
 "metadata": {
  "kernelspec": {
   "display_name": "base",
   "language": "python",
   "name": "python3"
  },
  "language_info": {
   "codemirror_mode": {
    "name": "ipython",
    "version": 3
   },
   "file_extension": ".py",
   "mimetype": "text/x-python",
   "name": "python",
   "nbconvert_exporter": "python",
   "pygments_lexer": "ipython3",
   "version": "3.9.12"
  },
  "orig_nbformat": 4
 },
 "nbformat": 4,
 "nbformat_minor": 2
}
