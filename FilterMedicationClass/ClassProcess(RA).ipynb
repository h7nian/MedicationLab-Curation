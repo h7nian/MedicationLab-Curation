{
 "cells": [
  {
   "cell_type": "code",
   "execution_count": 1,
   "metadata": {},
   "outputs": [],
   "source": [
    "import pandas as pd\n",
    "import numpy as np\n",
    "import plotly.express as px"
   ]
  },
  {
   "cell_type": "code",
   "execution_count": 2,
   "metadata": {},
   "outputs": [],
   "source": [
    "def find_third_largest(nums):\n",
    "    if len(nums) < 3:\n",
    "        return \"列表长度不足3\"\n",
    "    \n",
    "    # 将列表去重并排序\n",
    "    unique_nums = sorted(set(nums), reverse=True)\n",
    "    \n",
    "    if len(unique_nums) < 3:\n",
    "        return \"列表中没有第三大的数字\"\n",
    "    \n",
    "    return unique_nums[2]"
   ]
  },
  {
   "cell_type": "code",
   "execution_count": 3,
   "metadata": {},
   "outputs": [],
   "source": [
    "RAData = pd.read_csv(\"RA medication class(filtered).csv\")\n",
    "RAData = RAData.drop_duplicates(subset=[\"MedicationCui\",\"ClassCui\"]).reset_index(drop=True)"
   ]
  },
  {
   "cell_type": "code",
   "execution_count": 4,
   "metadata": {},
   "outputs": [],
   "source": [
    "## Change T2DData[['MedicationStr','ClassStr']] into Dictionary. The key is ClassStr, and the value is MedicationStr which belongs to the ClassStr.\n",
    "RADataDict = {}\n",
    "for i in range(len(RAData)):\n",
    "    if RAData.loc[i,'ClassStr'] not in RADataDict:\n",
    "        RADataDict[RAData.loc[i,'ClassStr']] = [RAData.loc[i,'MedicationStr']]\n",
    "    else:\n",
    "        RADataDict[RAData.loc[i,'ClassStr']].append(RAData.loc[i,'MedicationStr'])"
   ]
  },
  {
   "cell_type": "code",
   "execution_count": 5,
   "metadata": {},
   "outputs": [],
   "source": [
    "## Intersection Number\n",
    "IntersectionNumber = {}\n",
    "for key1 in RADataDict.keys():\n",
    "    IntersectionNumber[key1] = 0\n",
    "    for key2 in RADataDict.keys():\n",
    "        if key1 != key2 and len(set(RADataDict[key1]) & set(RADataDict[key2]))>0:\n",
    "            IntersectionNumber[key1] += 1"
   ]
  },
  {
   "cell_type": "code",
   "execution_count": 6,
   "metadata": {},
   "outputs": [],
   "source": [
    "## find the class which has the most intersection with other classes\n",
    "class_to_remove = []\n",
    "\n",
    "threshold = find_third_largest(list(IntersectionNumber.values()))\n",
    "for key in IntersectionNumber.keys():\n",
    "    if IntersectionNumber[key] >= threshold:\n",
    "        class_to_remove.append(key)\n",
    "        \n",
    "for key in class_to_remove:\n",
    "    del RADataDict[key]"
   ]
  },
  {
   "cell_type": "code",
   "execution_count": 7,
   "metadata": {},
   "outputs": [],
   "source": [
    "## remove the key which is the subset of other key\n",
    "class_to_remove = []  \n",
    "class_used = []\n",
    "for key in RADataDict.keys():\n",
    "    data = RADataDict[key]\n",
    "    for supkey in RADataDict.keys():\n",
    "        if supkey == key or supkey in class_used:\n",
    "            continue\n",
    "        supdata = RADataDict[supkey]\n",
    "        if set(data).issubset(set(supdata)):\n",
    "            class_used.append(key)\n",
    "            class_to_remove.append(key)  \n",
    "\n",
    "class_to_remove = list(set(class_to_remove))\n",
    "\n",
    "for key in class_to_remove:\n",
    "    del RADataDict[key]\n"
   ]
  },
  {
   "cell_type": "code",
   "execution_count": 8,
   "metadata": {},
   "outputs": [],
   "source": [
    "#Judge the number of the class contain one medication\n",
    "single_class = []\n",
    "for key in RADataDict.keys():\n",
    "    if len(RADataDict[key]) == 1:\n",
    "        single_class.append(key)\n",
    "#Change the key of the single class to 'other' \n",
    "if len(single_class) > 0:\n",
    "    RADataDict['other'] = RADataDict[single_class[0]]\n",
    "    del RADataDict[single_class[0]]\n",
    "    for i in range(1,len(single_class)):\n",
    "        RADataDict['other'] = RADataDict['other'] + RADataDict[single_class[i]]\n",
    "        del RADataDict[single_class[i]]"
   ]
  },
  {
   "cell_type": "code",
   "execution_count": 9,
   "metadata": {},
   "outputs": [],
   "source": [
    "#change the dictionary into dataframe\n",
    "RAData = pd.DataFrame(columns=['ClassStr', 'MedicationStr'])\n",
    "for key in RADataDict.keys():\n",
    "    for value in RADataDict[key]:\n",
    "        row = {'ClassStr': key, 'MedicationStr': value}\n",
    "        RAData = pd.concat([RAData, pd.DataFrame([row])])"
   ]
  },
  {
   "cell_type": "code",
   "execution_count": 10,
   "metadata": {},
   "outputs": [],
   "source": [
    "RAData['Disease'] = 'RA'"
   ]
  },
  {
   "cell_type": "code",
   "execution_count": 11,
   "metadata": {},
   "outputs": [],
   "source": [
    "RAData.to_csv(\"PlotMedicationData(RA).csv\",index=False,encoding='utf_8_sig')"
   ]
  },
  {
   "cell_type": "markdown",
   "metadata": {},
   "source": [
    "## ALL"
   ]
  },
  {
   "cell_type": "code",
   "execution_count": 11,
   "metadata": {},
   "outputs": [
    {
     "data": {
      "application/vnd.plotly.v1+json": {
       "config": {
        "plotlyServerURL": "https://plot.ly"
       },
       "data": [
        {
         "branchvalues": "total",
         "domain": {
          "x": [
           0,
           1
          ],
          "y": [
           0,
           1
          ]
         },
         "hovertemplate": "labels=%{label}<br>count=%{value}<br>parent=%{parent}<br>id=%{id}<extra></extra>",
         "ids": [
          "RA/Fusion protein/abatacept",
          "RA/Anti-Inflammatory Agents/adalimumab",
          "RA/Monoclonal Antibodies/adalimumab",
          "RA/other/anakinra",
          "RA/Analgesics/aspirin",
          "RA/azathioprine/azathioprine",
          "RA/azathioprine/azathioprine sodium",
          "RA/Janus kinase inhibitor/baricitinib",
          "RA/Angiotensin-Converting Enzyme Inhibitors/captopril",
          "RA/Cyclooxygenase 2 Inhibitors/celecoxib",
          "RA/Monoclonal Antibodies/certolizumab pegol",
          "RA/chloroquine/chloroquine",
          "RA/chloroquine/chloroquine phosphate",
          "RA/Analgesics/choline salicylate",
          "RA/Pharmaceutical Preparations/choline salicylate",
          "RA/cyclosporine/cyclosporine",
          "RA/cyclosporine/cyclosporine, modified",
          "RA/Pharmaceutical Preparations/diclofenac",
          "RA/diclofenac/diclofenac",
          "RA/diclofenac/diclofenac potassium",
          "RA/diclofenac/diclofenac sodium",
          "RA/Angiotensin-Converting Enzyme Inhibitors/enalapril",
          "RA/Angiotensin-Converting Enzyme Inhibitors/enalapril maleate",
          "RA/Angiotensin-Converting Enzyme Inhibitors/enalaprilat",
          "RA/Angiotensin-Converting Enzyme Inhibitors/enalaprilat anhydrous",
          "RA/Fusion protein/etanercept",
          "RA/Cyclooxygenase 2 Inhibitors/etodolac",
          "RA/Pharmaceutical Preparations/etodolac",
          "RA/Cyclooxygenase 2 Inhibitors/fenoprofen",
          "RA/Cyclooxygenase 2 Inhibitors/fenoprofen calcium",
          "RA/Pharmaceutical Preparations/fish oils",
          "RA/Analgesics/flurbiprofen",
          "RA/Pharmaceutical Preparations/gold",
          "RA/Anti-Inflammatory Agents/golimumab",
          "RA/Monoclonal Antibodies/golimumab",
          "RA/other/hydroxychloroquine sulfate",
          "RA/Cyclooxygenase 2 Inhibitors/ibuprofen",
          "RA/Cyclooxygenase 2 Inhibitors/ibuprofen lysine",
          "RA/Cyclooxygenase 2 Inhibitors/ibuprofen, sodium salt",
          "RA/Pharmaceutical Preparations/indomethacin",
          "RA/Monoclonal Antibodies/infliximab",
          "RA/infliximab/infliximab",
          "RA/infliximab/infliximab-abda",
          "RA/infliximab/infliximab-axxq",
          "RA/infliximab/infliximab-dyyb",
          "RA/other/leflunomide",
          "RA/Cyclooxygenase 2 Inhibitors/meloxicam",
          "RA/methotrexate/methotrexate",
          "RA/methotrexate/methotrexate sodium",
          "RA/Cyclooxygenase 2 Inhibitors/nabumetone",
          "RA/Cyclooxygenase 2 Inhibitors/naproxen",
          "RA/Cyclooxygenase 2 Inhibitors/naproxen sodium",
          "RA/other/penicillamine",
          "RA/Pharmaceutical Preparations/piroxicam",
          "RA/Monoclonal Antibodies/rituximab",
          "RA/rituximab/rituximab",
          "RA/rituximab/rituximab-abbs",
          "RA/rituximab/rituximab-arrx",
          "RA/rituximab/rituximab-pvvr",
          "RA/Monoclonal Antibodies/sarilumab",
          "RA/Anti-Inflammatory Agents/sulfasalazine",
          "RA/Pharmaceutical Preparations/sulindac",
          "RA/other/thalidomide",
          "RA/Monoclonal Antibodies/tocilizumab",
          "RA/Janus kinase inhibitor/tofacitinib",
          "RA/Janus kinase inhibitor/tofacitinib citrate",
          "RA/Pharmaceutical Preparations/tolmetin",
          "RA/Janus kinase inhibitor/upadacitinib",
          "RA/Analgesics",
          "RA/Angiotensin-Converting Enzyme Inhibitors",
          "RA/Anti-Inflammatory Agents",
          "RA/Cyclooxygenase 2 Inhibitors",
          "RA/Fusion protein",
          "RA/Janus kinase inhibitor",
          "RA/Monoclonal Antibodies",
          "RA/Pharmaceutical Preparations",
          "RA/azathioprine",
          "RA/chloroquine",
          "RA/cyclosporine",
          "RA/diclofenac",
          "RA/infliximab",
          "RA/methotrexate",
          "RA/other",
          "RA/rituximab",
          "RA"
         ],
         "labels": [
          "abatacept",
          "adalimumab",
          "adalimumab",
          "anakinra",
          "aspirin",
          "azathioprine",
          "azathioprine sodium",
          "baricitinib",
          "captopril",
          "celecoxib",
          "certolizumab pegol",
          "chloroquine",
          "chloroquine phosphate",
          "choline salicylate",
          "choline salicylate",
          "cyclosporine",
          "cyclosporine, modified",
          "diclofenac",
          "diclofenac",
          "diclofenac potassium",
          "diclofenac sodium",
          "enalapril",
          "enalapril maleate",
          "enalaprilat",
          "enalaprilat anhydrous",
          "etanercept",
          "etodolac",
          "etodolac",
          "fenoprofen",
          "fenoprofen calcium",
          "fish oils",
          "flurbiprofen",
          "gold",
          "golimumab",
          "golimumab",
          "hydroxychloroquine sulfate",
          "ibuprofen",
          "ibuprofen lysine",
          "ibuprofen, sodium salt",
          "indomethacin",
          "infliximab",
          "infliximab",
          "infliximab-abda",
          "infliximab-axxq",
          "infliximab-dyyb",
          "leflunomide",
          "meloxicam",
          "methotrexate",
          "methotrexate sodium",
          "nabumetone",
          "naproxen",
          "naproxen sodium",
          "penicillamine",
          "piroxicam",
          "rituximab",
          "rituximab",
          "rituximab-abbs",
          "rituximab-arrx",
          "rituximab-pvvr",
          "sarilumab",
          "sulfasalazine",
          "sulindac",
          "thalidomide",
          "tocilizumab",
          "tofacitinib",
          "tofacitinib citrate",
          "tolmetin",
          "upadacitinib",
          "Analgesics",
          "Angiotensin-Converting Enzyme Inhibitors",
          "Anti-Inflammatory Agents",
          "Cyclooxygenase 2 Inhibitors",
          "Fusion protein",
          "Janus kinase inhibitor",
          "Monoclonal Antibodies",
          "Pharmaceutical Preparations",
          "azathioprine",
          "chloroquine",
          "cyclosporine",
          "diclofenac",
          "infliximab",
          "methotrexate",
          "other",
          "rituximab",
          "RA"
         ],
         "name": "",
         "parents": [
          "RA/Fusion protein",
          "RA/Anti-Inflammatory Agents",
          "RA/Monoclonal Antibodies",
          "RA/other",
          "RA/Analgesics",
          "RA/azathioprine",
          "RA/azathioprine",
          "RA/Janus kinase inhibitor",
          "RA/Angiotensin-Converting Enzyme Inhibitors",
          "RA/Cyclooxygenase 2 Inhibitors",
          "RA/Monoclonal Antibodies",
          "RA/chloroquine",
          "RA/chloroquine",
          "RA/Analgesics",
          "RA/Pharmaceutical Preparations",
          "RA/cyclosporine",
          "RA/cyclosporine",
          "RA/Pharmaceutical Preparations",
          "RA/diclofenac",
          "RA/diclofenac",
          "RA/diclofenac",
          "RA/Angiotensin-Converting Enzyme Inhibitors",
          "RA/Angiotensin-Converting Enzyme Inhibitors",
          "RA/Angiotensin-Converting Enzyme Inhibitors",
          "RA/Angiotensin-Converting Enzyme Inhibitors",
          "RA/Fusion protein",
          "RA/Cyclooxygenase 2 Inhibitors",
          "RA/Pharmaceutical Preparations",
          "RA/Cyclooxygenase 2 Inhibitors",
          "RA/Cyclooxygenase 2 Inhibitors",
          "RA/Pharmaceutical Preparations",
          "RA/Analgesics",
          "RA/Pharmaceutical Preparations",
          "RA/Anti-Inflammatory Agents",
          "RA/Monoclonal Antibodies",
          "RA/other",
          "RA/Cyclooxygenase 2 Inhibitors",
          "RA/Cyclooxygenase 2 Inhibitors",
          "RA/Cyclooxygenase 2 Inhibitors",
          "RA/Pharmaceutical Preparations",
          "RA/Monoclonal Antibodies",
          "RA/infliximab",
          "RA/infliximab",
          "RA/infliximab",
          "RA/infliximab",
          "RA/other",
          "RA/Cyclooxygenase 2 Inhibitors",
          "RA/methotrexate",
          "RA/methotrexate",
          "RA/Cyclooxygenase 2 Inhibitors",
          "RA/Cyclooxygenase 2 Inhibitors",
          "RA/Cyclooxygenase 2 Inhibitors",
          "RA/other",
          "RA/Pharmaceutical Preparations",
          "RA/Monoclonal Antibodies",
          "RA/rituximab",
          "RA/rituximab",
          "RA/rituximab",
          "RA/rituximab",
          "RA/Monoclonal Antibodies",
          "RA/Anti-Inflammatory Agents",
          "RA/Pharmaceutical Preparations",
          "RA/other",
          "RA/Monoclonal Antibodies",
          "RA/Janus kinase inhibitor",
          "RA/Janus kinase inhibitor",
          "RA/Pharmaceutical Preparations",
          "RA/Janus kinase inhibitor",
          "RA",
          "RA",
          "RA",
          "RA",
          "RA",
          "RA",
          "RA",
          "RA",
          "RA",
          "RA",
          "RA",
          "RA",
          "RA",
          "RA",
          "RA",
          "RA",
          ""
         ],
         "type": "sunburst",
         "values": [
          1,
          1,
          1,
          1,
          1,
          1,
          1,
          1,
          1,
          1,
          1,
          1,
          1,
          1,
          1,
          1,
          1,
          1,
          1,
          1,
          1,
          1,
          1,
          1,
          1,
          1,
          1,
          1,
          1,
          1,
          1,
          1,
          1,
          1,
          1,
          1,
          1,
          1,
          1,
          1,
          1,
          1,
          1,
          1,
          1,
          1,
          1,
          1,
          1,
          1,
          1,
          1,
          1,
          1,
          1,
          1,
          1,
          1,
          1,
          1,
          1,
          1,
          1,
          1,
          1,
          1,
          1,
          1,
          3,
          5,
          3,
          11,
          2,
          4,
          7,
          9,
          2,
          2,
          2,
          3,
          4,
          2,
          5,
          4,
          68
         ]
        }
       ],
       "layout": {
        "height": 750,
        "legend": {
         "tracegroupgap": 0
        },
        "template": {
         "data": {
          "bar": [
           {
            "error_x": {
             "color": "#2a3f5f"
            },
            "error_y": {
             "color": "#2a3f5f"
            },
            "marker": {
             "line": {
              "color": "#E5ECF6",
              "width": 0.5
             },
             "pattern": {
              "fillmode": "overlay",
              "size": 10,
              "solidity": 0.2
             }
            },
            "type": "bar"
           }
          ],
          "barpolar": [
           {
            "marker": {
             "line": {
              "color": "#E5ECF6",
              "width": 0.5
             },
             "pattern": {
              "fillmode": "overlay",
              "size": 10,
              "solidity": 0.2
             }
            },
            "type": "barpolar"
           }
          ],
          "carpet": [
           {
            "aaxis": {
             "endlinecolor": "#2a3f5f",
             "gridcolor": "white",
             "linecolor": "white",
             "minorgridcolor": "white",
             "startlinecolor": "#2a3f5f"
            },
            "baxis": {
             "endlinecolor": "#2a3f5f",
             "gridcolor": "white",
             "linecolor": "white",
             "minorgridcolor": "white",
             "startlinecolor": "#2a3f5f"
            },
            "type": "carpet"
           }
          ],
          "choropleth": [
           {
            "colorbar": {
             "outlinewidth": 0,
             "ticks": ""
            },
            "type": "choropleth"
           }
          ],
          "contour": [
           {
            "colorbar": {
             "outlinewidth": 0,
             "ticks": ""
            },
            "colorscale": [
             [
              0,
              "#0d0887"
             ],
             [
              0.1111111111111111,
              "#46039f"
             ],
             [
              0.2222222222222222,
              "#7201a8"
             ],
             [
              0.3333333333333333,
              "#9c179e"
             ],
             [
              0.4444444444444444,
              "#bd3786"
             ],
             [
              0.5555555555555556,
              "#d8576b"
             ],
             [
              0.6666666666666666,
              "#ed7953"
             ],
             [
              0.7777777777777778,
              "#fb9f3a"
             ],
             [
              0.8888888888888888,
              "#fdca26"
             ],
             [
              1,
              "#f0f921"
             ]
            ],
            "type": "contour"
           }
          ],
          "contourcarpet": [
           {
            "colorbar": {
             "outlinewidth": 0,
             "ticks": ""
            },
            "type": "contourcarpet"
           }
          ],
          "heatmap": [
           {
            "colorbar": {
             "outlinewidth": 0,
             "ticks": ""
            },
            "colorscale": [
             [
              0,
              "#0d0887"
             ],
             [
              0.1111111111111111,
              "#46039f"
             ],
             [
              0.2222222222222222,
              "#7201a8"
             ],
             [
              0.3333333333333333,
              "#9c179e"
             ],
             [
              0.4444444444444444,
              "#bd3786"
             ],
             [
              0.5555555555555556,
              "#d8576b"
             ],
             [
              0.6666666666666666,
              "#ed7953"
             ],
             [
              0.7777777777777778,
              "#fb9f3a"
             ],
             [
              0.8888888888888888,
              "#fdca26"
             ],
             [
              1,
              "#f0f921"
             ]
            ],
            "type": "heatmap"
           }
          ],
          "heatmapgl": [
           {
            "colorbar": {
             "outlinewidth": 0,
             "ticks": ""
            },
            "colorscale": [
             [
              0,
              "#0d0887"
             ],
             [
              0.1111111111111111,
              "#46039f"
             ],
             [
              0.2222222222222222,
              "#7201a8"
             ],
             [
              0.3333333333333333,
              "#9c179e"
             ],
             [
              0.4444444444444444,
              "#bd3786"
             ],
             [
              0.5555555555555556,
              "#d8576b"
             ],
             [
              0.6666666666666666,
              "#ed7953"
             ],
             [
              0.7777777777777778,
              "#fb9f3a"
             ],
             [
              0.8888888888888888,
              "#fdca26"
             ],
             [
              1,
              "#f0f921"
             ]
            ],
            "type": "heatmapgl"
           }
          ],
          "histogram": [
           {
            "marker": {
             "pattern": {
              "fillmode": "overlay",
              "size": 10,
              "solidity": 0.2
             }
            },
            "type": "histogram"
           }
          ],
          "histogram2d": [
           {
            "colorbar": {
             "outlinewidth": 0,
             "ticks": ""
            },
            "colorscale": [
             [
              0,
              "#0d0887"
             ],
             [
              0.1111111111111111,
              "#46039f"
             ],
             [
              0.2222222222222222,
              "#7201a8"
             ],
             [
              0.3333333333333333,
              "#9c179e"
             ],
             [
              0.4444444444444444,
              "#bd3786"
             ],
             [
              0.5555555555555556,
              "#d8576b"
             ],
             [
              0.6666666666666666,
              "#ed7953"
             ],
             [
              0.7777777777777778,
              "#fb9f3a"
             ],
             [
              0.8888888888888888,
              "#fdca26"
             ],
             [
              1,
              "#f0f921"
             ]
            ],
            "type": "histogram2d"
           }
          ],
          "histogram2dcontour": [
           {
            "colorbar": {
             "outlinewidth": 0,
             "ticks": ""
            },
            "colorscale": [
             [
              0,
              "#0d0887"
             ],
             [
              0.1111111111111111,
              "#46039f"
             ],
             [
              0.2222222222222222,
              "#7201a8"
             ],
             [
              0.3333333333333333,
              "#9c179e"
             ],
             [
              0.4444444444444444,
              "#bd3786"
             ],
             [
              0.5555555555555556,
              "#d8576b"
             ],
             [
              0.6666666666666666,
              "#ed7953"
             ],
             [
              0.7777777777777778,
              "#fb9f3a"
             ],
             [
              0.8888888888888888,
              "#fdca26"
             ],
             [
              1,
              "#f0f921"
             ]
            ],
            "type": "histogram2dcontour"
           }
          ],
          "mesh3d": [
           {
            "colorbar": {
             "outlinewidth": 0,
             "ticks": ""
            },
            "type": "mesh3d"
           }
          ],
          "parcoords": [
           {
            "line": {
             "colorbar": {
              "outlinewidth": 0,
              "ticks": ""
             }
            },
            "type": "parcoords"
           }
          ],
          "pie": [
           {
            "automargin": true,
            "type": "pie"
           }
          ],
          "scatter": [
           {
            "fillpattern": {
             "fillmode": "overlay",
             "size": 10,
             "solidity": 0.2
            },
            "type": "scatter"
           }
          ],
          "scatter3d": [
           {
            "line": {
             "colorbar": {
              "outlinewidth": 0,
              "ticks": ""
             }
            },
            "marker": {
             "colorbar": {
              "outlinewidth": 0,
              "ticks": ""
             }
            },
            "type": "scatter3d"
           }
          ],
          "scattercarpet": [
           {
            "marker": {
             "colorbar": {
              "outlinewidth": 0,
              "ticks": ""
             }
            },
            "type": "scattercarpet"
           }
          ],
          "scattergeo": [
           {
            "marker": {
             "colorbar": {
              "outlinewidth": 0,
              "ticks": ""
             }
            },
            "type": "scattergeo"
           }
          ],
          "scattergl": [
           {
            "marker": {
             "colorbar": {
              "outlinewidth": 0,
              "ticks": ""
             }
            },
            "type": "scattergl"
           }
          ],
          "scattermapbox": [
           {
            "marker": {
             "colorbar": {
              "outlinewidth": 0,
              "ticks": ""
             }
            },
            "type": "scattermapbox"
           }
          ],
          "scatterpolar": [
           {
            "marker": {
             "colorbar": {
              "outlinewidth": 0,
              "ticks": ""
             }
            },
            "type": "scatterpolar"
           }
          ],
          "scatterpolargl": [
           {
            "marker": {
             "colorbar": {
              "outlinewidth": 0,
              "ticks": ""
             }
            },
            "type": "scatterpolargl"
           }
          ],
          "scatterternary": [
           {
            "marker": {
             "colorbar": {
              "outlinewidth": 0,
              "ticks": ""
             }
            },
            "type": "scatterternary"
           }
          ],
          "surface": [
           {
            "colorbar": {
             "outlinewidth": 0,
             "ticks": ""
            },
            "colorscale": [
             [
              0,
              "#0d0887"
             ],
             [
              0.1111111111111111,
              "#46039f"
             ],
             [
              0.2222222222222222,
              "#7201a8"
             ],
             [
              0.3333333333333333,
              "#9c179e"
             ],
             [
              0.4444444444444444,
              "#bd3786"
             ],
             [
              0.5555555555555556,
              "#d8576b"
             ],
             [
              0.6666666666666666,
              "#ed7953"
             ],
             [
              0.7777777777777778,
              "#fb9f3a"
             ],
             [
              0.8888888888888888,
              "#fdca26"
             ],
             [
              1,
              "#f0f921"
             ]
            ],
            "type": "surface"
           }
          ],
          "table": [
           {
            "cells": {
             "fill": {
              "color": "#EBF0F8"
             },
             "line": {
              "color": "white"
             }
            },
            "header": {
             "fill": {
              "color": "#C8D4E3"
             },
             "line": {
              "color": "white"
             }
            },
            "type": "table"
           }
          ]
         },
         "layout": {
          "annotationdefaults": {
           "arrowcolor": "#2a3f5f",
           "arrowhead": 0,
           "arrowwidth": 1
          },
          "autotypenumbers": "strict",
          "coloraxis": {
           "colorbar": {
            "outlinewidth": 0,
            "ticks": ""
           }
          },
          "colorscale": {
           "diverging": [
            [
             0,
             "#8e0152"
            ],
            [
             0.1,
             "#c51b7d"
            ],
            [
             0.2,
             "#de77ae"
            ],
            [
             0.3,
             "#f1b6da"
            ],
            [
             0.4,
             "#fde0ef"
            ],
            [
             0.5,
             "#f7f7f7"
            ],
            [
             0.6,
             "#e6f5d0"
            ],
            [
             0.7,
             "#b8e186"
            ],
            [
             0.8,
             "#7fbc41"
            ],
            [
             0.9,
             "#4d9221"
            ],
            [
             1,
             "#276419"
            ]
           ],
           "sequential": [
            [
             0,
             "#0d0887"
            ],
            [
             0.1111111111111111,
             "#46039f"
            ],
            [
             0.2222222222222222,
             "#7201a8"
            ],
            [
             0.3333333333333333,
             "#9c179e"
            ],
            [
             0.4444444444444444,
             "#bd3786"
            ],
            [
             0.5555555555555556,
             "#d8576b"
            ],
            [
             0.6666666666666666,
             "#ed7953"
            ],
            [
             0.7777777777777778,
             "#fb9f3a"
            ],
            [
             0.8888888888888888,
             "#fdca26"
            ],
            [
             1,
             "#f0f921"
            ]
           ],
           "sequentialminus": [
            [
             0,
             "#0d0887"
            ],
            [
             0.1111111111111111,
             "#46039f"
            ],
            [
             0.2222222222222222,
             "#7201a8"
            ],
            [
             0.3333333333333333,
             "#9c179e"
            ],
            [
             0.4444444444444444,
             "#bd3786"
            ],
            [
             0.5555555555555556,
             "#d8576b"
            ],
            [
             0.6666666666666666,
             "#ed7953"
            ],
            [
             0.7777777777777778,
             "#fb9f3a"
            ],
            [
             0.8888888888888888,
             "#fdca26"
            ],
            [
             1,
             "#f0f921"
            ]
           ]
          },
          "colorway": [
           "#636efa",
           "#EF553B",
           "#00cc96",
           "#ab63fa",
           "#FFA15A",
           "#19d3f3",
           "#FF6692",
           "#B6E880",
           "#FF97FF",
           "#FECB52"
          ],
          "font": {
           "color": "#2a3f5f"
          },
          "geo": {
           "bgcolor": "white",
           "lakecolor": "white",
           "landcolor": "#E5ECF6",
           "showlakes": true,
           "showland": true,
           "subunitcolor": "white"
          },
          "hoverlabel": {
           "align": "left"
          },
          "hovermode": "closest",
          "mapbox": {
           "style": "light"
          },
          "paper_bgcolor": "white",
          "plot_bgcolor": "#E5ECF6",
          "polar": {
           "angularaxis": {
            "gridcolor": "white",
            "linecolor": "white",
            "ticks": ""
           },
           "bgcolor": "#E5ECF6",
           "radialaxis": {
            "gridcolor": "white",
            "linecolor": "white",
            "ticks": ""
           }
          },
          "scene": {
           "xaxis": {
            "backgroundcolor": "#E5ECF6",
            "gridcolor": "white",
            "gridwidth": 2,
            "linecolor": "white",
            "showbackground": true,
            "ticks": "",
            "zerolinecolor": "white"
           },
           "yaxis": {
            "backgroundcolor": "#E5ECF6",
            "gridcolor": "white",
            "gridwidth": 2,
            "linecolor": "white",
            "showbackground": true,
            "ticks": "",
            "zerolinecolor": "white"
           },
           "zaxis": {
            "backgroundcolor": "#E5ECF6",
            "gridcolor": "white",
            "gridwidth": 2,
            "linecolor": "white",
            "showbackground": true,
            "ticks": "",
            "zerolinecolor": "white"
           }
          },
          "shapedefaults": {
           "line": {
            "color": "#2a3f5f"
           }
          },
          "ternary": {
           "aaxis": {
            "gridcolor": "white",
            "linecolor": "white",
            "ticks": ""
           },
           "baxis": {
            "gridcolor": "white",
            "linecolor": "white",
            "ticks": ""
           },
           "bgcolor": "#E5ECF6",
           "caxis": {
            "gridcolor": "white",
            "linecolor": "white",
            "ticks": ""
           }
          },
          "title": {
           "x": 0.05
          },
          "xaxis": {
           "automargin": true,
           "gridcolor": "white",
           "linecolor": "white",
           "ticks": "",
           "title": {
            "standoff": 15
           },
           "zerolinecolor": "white",
           "zerolinewidth": 2
          },
          "yaxis": {
           "automargin": true,
           "gridcolor": "white",
           "linecolor": "white",
           "ticks": "",
           "title": {
            "standoff": 15
           },
           "zerolinecolor": "white",
           "zerolinewidth": 2
          }
         }
        },
        "title": {
         "text": "RA Medication(Rule Filtered)"
        },
        "width": 750
       }
      }
     },
     "metadata": {},
     "output_type": "display_data"
    }
   ],
   "source": [
    "fig = px.sunburst(RAData,\n",
    "                  path=[\"Disease\", \"ClassStr\", \"MedicationStr\",],\n",
    "                  width=750, height=750,\n",
    "                  title=\"RA Medication(Rule Filtered)\",\n",
    "                  )\n",
    "fig.write_html(\"RA Medication(Rule Filtered).html\")\n",
    "fig.show()"
   ]
  },
  {
   "cell_type": "markdown",
   "metadata": {},
   "source": [
    "## Ori"
   ]
  },
  {
   "cell_type": "code",
   "execution_count": null,
   "metadata": {},
   "outputs": [],
   "source": []
  }
 ],
 "metadata": {
  "kernelspec": {
   "display_name": "base",
   "language": "python",
   "name": "python3"
  },
  "language_info": {
   "codemirror_mode": {
    "name": "ipython",
    "version": 3
   },
   "file_extension": ".py",
   "mimetype": "text/x-python",
   "name": "python",
   "nbconvert_exporter": "python",
   "pygments_lexer": "ipython3",
   "version": "3.9.12"
  },
  "orig_nbformat": 4
 },
 "nbformat": 4,
 "nbformat_minor": 2
}
