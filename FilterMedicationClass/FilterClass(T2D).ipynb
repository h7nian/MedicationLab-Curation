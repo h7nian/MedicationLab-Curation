{
 "cells": [
  {
   "cell_type": "code",
   "execution_count": 1,
   "metadata": {},
   "outputs": [],
   "source": [
    "import pandas as pd\n",
    "import pymysql\n",
    "from tqdm import tqdm"
   ]
  },
  {
   "attachments": {},
   "cell_type": "markdown",
   "metadata": {},
   "source": [
    "## Find the Synonym Of The Medication Class"
   ]
  },
  {
   "cell_type": "code",
   "execution_count": 2,
   "metadata": {},
   "outputs": [],
   "source": [
    "Medication = pd.read_csv(\"type 2 diabetes medication class.csv\")"
   ]
  },
  {
   "cell_type": "code",
   "execution_count": 3,
   "metadata": {},
   "outputs": [],
   "source": [
    "Medication = Medication.drop_duplicates(subset=['MedicationCui', 'ClassCui'])"
   ]
  },
  {
   "cell_type": "code",
   "execution_count": 4,
   "metadata": {},
   "outputs": [],
   "source": [
    "database = pymysql.connect(host=\"localhost\",user= \"root\", password=\"Zhangsinian976\", database=\"umls\")\n",
    "cursor = database.cursor()"
   ]
  },
  {
   "cell_type": "code",
   "execution_count": 5,
   "metadata": {},
   "outputs": [],
   "source": [
    "command = '''select distinct cui2,str\n",
    "from mrrel,mrconso\n",
    "where cui1 = %s and cui2 != %s and cui = cui2 and (rel = \"SY\" or rela = \"mapped_to\");'''"
   ]
  },
  {
   "cell_type": "code",
   "execution_count": 6,
   "metadata": {},
   "outputs": [
    {
     "name": "stderr",
     "output_type": "stream",
     "text": [
      "0it [00:00, ?it/s]"
     ]
    },
    {
     "name": "stderr",
     "output_type": "stream",
     "text": [
      "324it [3:28:45, 38.66s/it]\n"
     ]
    }
   ],
   "source": [
    "Data = pd.DataFrame(columns=[\"MedicationCui\",\"MedicationStr\",\"ClassCui\",\"ClassStr\",\"ClassCui(Synonym)\",\"ClassStr(Synonym)\"])\n",
    "\n",
    "for index,row in tqdm(Medication.iterrows()):\n",
    "    cursor.execute(command,(row[\"ClassCui\"],row[\"ClassCui\"]))\n",
    "    result = cursor.fetchall()\n",
    "    if(result == ()):\n",
    "        Data = pd.concat([Data,row.to_frame().T],ignore_index=True)\n",
    "        continue\n",
    "    Temp = pd.DataFrame(result,columns=[\"ClassCui(Synonym)\",\"ClassStr(Synonym)\"])\n",
    "    duplicated_row = pd.concat([row.to_frame().T] * len(Temp), ignore_index=True)\n",
    "    combined = pd.concat([duplicated_row.reset_index(drop=True), Temp.reset_index(drop=True)], axis=1)\n",
    "    Data = pd.concat([Data,combined],ignore_index=True)"
   ]
  },
  {
   "cell_type": "code",
   "execution_count": 7,
   "metadata": {},
   "outputs": [],
   "source": [
    "cursor.close()\n",
    "database.close()"
   ]
  },
  {
   "cell_type": "code",
   "execution_count": 8,
   "metadata": {},
   "outputs": [],
   "source": [
    "Medication = Data.drop_duplicates(subset=['MedicationCui','ClassCui','ClassCui(Synonym)'])"
   ]
  },
  {
   "cell_type": "code",
   "execution_count": 19,
   "metadata": {},
   "outputs": [],
   "source": [
    "Data.drop_duplicates(subset=['MedicationCui','ClassCui','ClassCui(Synonym)']).to_csv(\"SynonymClass(T2D).csv\",index=False,encoding='utf-8-sig')"
   ]
  },
  {
   "attachments": {},
   "cell_type": "markdown",
   "metadata": {},
   "source": [
    "## Filter Medication Class"
   ]
  },
  {
   "cell_type": "code",
   "execution_count": 9,
   "metadata": {},
   "outputs": [],
   "source": [
    "MedicationClass = pd.read_csv('T2DMedicationClass.txt', sep='|', skipinitialspace=True)"
   ]
  },
  {
   "cell_type": "code",
   "execution_count": 10,
   "metadata": {},
   "outputs": [],
   "source": [
    "key_cui = MedicationClass['Key Cui '].str.replace(r'\\[|\\]', '',regex=True).str.strip().str.split(', ').explode()\n",
    "superior_key_cui = MedicationClass['Superior Key Cui '].str.replace(r'\\[|\\]', '',regex=True).str.strip().str.split(', ').explode()\n",
    "all_cui = pd.concat([key_cui, superior_key_cui]).drop_duplicates().tolist()"
   ]
  },
  {
   "cell_type": "code",
   "execution_count": 11,
   "metadata": {},
   "outputs": [],
   "source": [
    "Medication = Medication.loc[(Medication['ClassCui'].str.strip().isin(all_cui) | Medication['ClassCui(Synonym)'].str.strip().isin(all_cui))]"
   ]
  },
  {
   "cell_type": "code",
   "execution_count": 12,
   "metadata": {},
   "outputs": [
    {
     "data": {
      "text/html": [
       "<div>\n",
       "<style scoped>\n",
       "    .dataframe tbody tr th:only-of-type {\n",
       "        vertical-align: middle;\n",
       "    }\n",
       "\n",
       "    .dataframe tbody tr th {\n",
       "        vertical-align: top;\n",
       "    }\n",
       "\n",
       "    .dataframe thead th {\n",
       "        text-align: right;\n",
       "    }\n",
       "</style>\n",
       "<table border=\"1\" class=\"dataframe\">\n",
       "  <thead>\n",
       "    <tr style=\"text-align: right;\">\n",
       "      <th></th>\n",
       "      <th>MedicationCui</th>\n",
       "      <th>MedicationStr</th>\n",
       "      <th>ClassCui</th>\n",
       "      <th>ClassStr</th>\n",
       "      <th>ClassCui(Synonym)</th>\n",
       "      <th>ClassStr(Synonym)</th>\n",
       "    </tr>\n",
       "  </thead>\n",
       "  <tbody>\n",
       "    <tr>\n",
       "      <th>6</th>\n",
       "      <td>C0000992</td>\n",
       "      <td>acetohexamide</td>\n",
       "      <td>C0020616</td>\n",
       "      <td>Hypoglycemic Agents</td>\n",
       "      <td>C0017687</td>\n",
       "      <td>glukagon</td>\n",
       "    </tr>\n",
       "    <tr>\n",
       "      <th>61</th>\n",
       "      <td>C0000992</td>\n",
       "      <td>acetohexamide</td>\n",
       "      <td>C0038766</td>\n",
       "      <td>Sulfonylurea Compounds</td>\n",
       "      <td>C0061323</td>\n",
       "      <td>glimepiride</td>\n",
       "    </tr>\n",
       "    <tr>\n",
       "      <th>79</th>\n",
       "      <td>C0000992</td>\n",
       "      <td>acetohexamide</td>\n",
       "      <td>C0038766</td>\n",
       "      <td>Sulfonylurea Compounds</td>\n",
       "      <td>C0061328</td>\n",
       "      <td>gliquidone</td>\n",
       "    </tr>\n",
       "    <tr>\n",
       "      <th>98</th>\n",
       "      <td>C0000992</td>\n",
       "      <td>acetohexamide</td>\n",
       "      <td>C0038766</td>\n",
       "      <td>Sulfonylurea Compounds</td>\n",
       "      <td>C0061329</td>\n",
       "      <td>glisolamide</td>\n",
       "    </tr>\n",
       "    <tr>\n",
       "      <th>103</th>\n",
       "      <td>C0000992</td>\n",
       "      <td>acetohexamide</td>\n",
       "      <td>C0038766</td>\n",
       "      <td>Sulfonylurea Compounds</td>\n",
       "      <td>C0061330</td>\n",
       "      <td>glisoxepide</td>\n",
       "    </tr>\n",
       "    <tr>\n",
       "      <th>...</th>\n",
       "      <td>...</td>\n",
       "      <td>...</td>\n",
       "      <td>...</td>\n",
       "      <td>...</td>\n",
       "      <td>...</td>\n",
       "      <td>...</td>\n",
       "    </tr>\n",
       "    <tr>\n",
       "      <th>17574</th>\n",
       "      <td>C3491971</td>\n",
       "      <td>insulin degludec</td>\n",
       "      <td>C0021641</td>\n",
       "      <td>Insulin</td>\n",
       "      <td>C4549738</td>\n",
       "      <td>neutral protamine lispro insulin</td>\n",
       "    </tr>\n",
       "    <tr>\n",
       "      <th>17576</th>\n",
       "      <td>C3491971</td>\n",
       "      <td>insulin degludec</td>\n",
       "      <td>C0021641</td>\n",
       "      <td>Insulin</td>\n",
       "      <td>C4742625</td>\n",
       "      <td>MK-2640</td>\n",
       "    </tr>\n",
       "    <tr>\n",
       "      <th>17579</th>\n",
       "      <td>C3555622</td>\n",
       "      <td>dapagliflozin propanediol</td>\n",
       "      <td>C2353951</td>\n",
       "      <td>dapagliflozin</td>\n",
       "      <td>NaN</td>\n",
       "      <td>NaN</td>\n",
       "    </tr>\n",
       "    <tr>\n",
       "      <th>17580</th>\n",
       "      <td>C3555622</td>\n",
       "      <td>dapagliflozin propanediol</td>\n",
       "      <td>C3273807</td>\n",
       "      <td>Sodium-Glucose Transporter 2 Inhibitors</td>\n",
       "      <td>NaN</td>\n",
       "      <td>NaN</td>\n",
       "    </tr>\n",
       "    <tr>\n",
       "      <th>17581</th>\n",
       "      <td>C3555622</td>\n",
       "      <td>dapagliflozin propanediol</td>\n",
       "      <td>C3838944</td>\n",
       "      <td>Sodium glucose cotransporter subtype 2 inhibitor</td>\n",
       "      <td>C3542461</td>\n",
       "      <td>Sodium-Glucose Cotransporter 2 Inhibitor [EPC]</td>\n",
       "    </tr>\n",
       "  </tbody>\n",
       "</table>\n",
       "<p>2416 rows × 6 columns</p>\n",
       "</div>"
      ],
      "text/plain": [
       "      MedicationCui              MedicationStr  ClassCui  \\\n",
       "6          C0000992              acetohexamide  C0020616   \n",
       "61         C0000992              acetohexamide  C0038766   \n",
       "79         C0000992              acetohexamide  C0038766   \n",
       "98         C0000992              acetohexamide  C0038766   \n",
       "103        C0000992              acetohexamide  C0038766   \n",
       "...             ...                        ...       ...   \n",
       "17574      C3491971           insulin degludec  C0021641   \n",
       "17576      C3491971           insulin degludec  C0021641   \n",
       "17579      C3555622  dapagliflozin propanediol  C2353951   \n",
       "17580      C3555622  dapagliflozin propanediol  C3273807   \n",
       "17581      C3555622  dapagliflozin propanediol  C3838944   \n",
       "\n",
       "                                               ClassStr ClassCui(Synonym)  \\\n",
       "6                                   Hypoglycemic Agents          C0017687   \n",
       "61                               Sulfonylurea Compounds          C0061323   \n",
       "79                               Sulfonylurea Compounds          C0061328   \n",
       "98                               Sulfonylurea Compounds          C0061329   \n",
       "103                              Sulfonylurea Compounds          C0061330   \n",
       "...                                                 ...               ...   \n",
       "17574                                           Insulin          C4549738   \n",
       "17576                                           Insulin          C4742625   \n",
       "17579                                     dapagliflozin               NaN   \n",
       "17580           Sodium-Glucose Transporter 2 Inhibitors               NaN   \n",
       "17581  Sodium glucose cotransporter subtype 2 inhibitor          C3542461   \n",
       "\n",
       "                                    ClassStr(Synonym)  \n",
       "6                                            glukagon  \n",
       "61                                        glimepiride  \n",
       "79                                         gliquidone  \n",
       "98                                        glisolamide  \n",
       "103                                       glisoxepide  \n",
       "...                                               ...  \n",
       "17574                neutral protamine lispro insulin  \n",
       "17576                                         MK-2640  \n",
       "17579                                             NaN  \n",
       "17580                                             NaN  \n",
       "17581  Sodium-Glucose Cotransporter 2 Inhibitor [EPC]  \n",
       "\n",
       "[2416 rows x 6 columns]"
      ]
     },
     "execution_count": 12,
     "metadata": {},
     "output_type": "execute_result"
    }
   ],
   "source": [
    "Medication"
   ]
  },
  {
   "attachments": {},
   "cell_type": "markdown",
   "metadata": {},
   "source": [
    "## Filter Rxnorm Medication"
   ]
  },
  {
   "cell_type": "code",
   "execution_count": 13,
   "metadata": {},
   "outputs": [],
   "source": [
    "database = pymysql.connect(host=\"localhost\",user= \"root\", password=\"Zhangsinian976\", database=\"umls\")\n",
    "cursor = database.cursor()"
   ]
  },
  {
   "cell_type": "code",
   "execution_count": 14,
   "metadata": {},
   "outputs": [],
   "source": [
    "command = '''select * from rxnconso where str = %s'''"
   ]
  },
  {
   "cell_type": "code",
   "execution_count": 15,
   "metadata": {},
   "outputs": [
    {
     "name": "stderr",
     "output_type": "stream",
     "text": [
      "2416it [13:38,  2.95it/s]\n"
     ]
    }
   ],
   "source": [
    "for index,row in tqdm(Medication.iterrows()):\n",
    "    cursor.execute(command,row[\"MedicationStr\"])\n",
    "    result = cursor.fetchall()\n",
    "    if len(result) == 0:\n",
    "        Medication.drop(index, inplace=True)"
   ]
  },
  {
   "cell_type": "code",
   "execution_count": 16,
   "metadata": {},
   "outputs": [],
   "source": [
    "cursor.close()\n",
    "database.close()"
   ]
  },
  {
   "cell_type": "code",
   "execution_count": 17,
   "metadata": {},
   "outputs": [],
   "source": [
    "Medication.sort_index().to_csv('T2D medication class(filtered).csv',encoding=\"utf_8_sig\",index=False)"
   ]
  },
  {
   "cell_type": "code",
   "execution_count": 18,
   "metadata": {},
   "outputs": [
    {
     "data": {
      "text/plain": [
       "(43,)"
      ]
     },
     "execution_count": 18,
     "metadata": {},
     "output_type": "execute_result"
    }
   ],
   "source": [
    "Medication[\"MedicationCui\"].unique().shape"
   ]
  },
  {
   "cell_type": "code",
   "execution_count": null,
   "metadata": {},
   "outputs": [],
   "source": []
  },
  {
   "cell_type": "code",
   "execution_count": null,
   "metadata": {},
   "outputs": [],
   "source": []
  }
 ],
 "metadata": {
  "kernelspec": {
   "display_name": "base",
   "language": "python",
   "name": "python3"
  },
  "language_info": {
   "codemirror_mode": {
    "name": "ipython",
    "version": 3
   },
   "file_extension": ".py",
   "mimetype": "text/x-python",
   "name": "python",
   "nbconvert_exporter": "python",
   "pygments_lexer": "ipython3",
   "version": "3.9.12"
  },
  "orig_nbformat": 4
 },
 "nbformat": 4,
 "nbformat_minor": 2
}
